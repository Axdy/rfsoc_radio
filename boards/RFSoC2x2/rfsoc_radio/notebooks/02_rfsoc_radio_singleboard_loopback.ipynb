{
 "cells": [
  {
   "cell_type": "markdown",
   "metadata": {},
   "source": [
    "# RFSoC Radio Design - BPSK Demonstration\n",
    "This notebooks presents a BPSK radio system design for the Zynq UltraScale+ RFSoC. The steps outlined in the table of contents below will demonstrate the features and capabilities of the platform.\n",
    "\n",
    "The BPSK radio system is capable of transmitting and receiving data at 100 kbits/s. The transmitter modulates 8-bit wide fixed point data into BPSK packets for transmission. The transmission system uses a raised cosine to pulse-shape the BPSK data, and then interpolates the samples to 1.024 GSa/s. The pulse-shaped, interpolated BPSK data is mixed with a carrier frequency and transmitted using the RF-DAC. On the receiving end, the RF-ADC also samples at 1.024 GSa/s. The received signal is decimated by a factor of 8 using the RF-ADC's internal half-band lowpass decimators. The signal then passes through a series of decimation stages in the Programmable Logic. Coarse, timing, and carrier synchronisation techniques are then applied to improve signal acquisition. Finally, frame synchronisation using an extended barker sequence is applied through correlation, which allows the BPSK data to be effectively received.\n",
    "\n",
    "This demonstration provides interactive plotting capabilities so that users can visualise each stage of the BPSK synchronisation process. Users can transmit their own BPSK messages and receive them using a serial terminal. Furthermore, image data can also be transmitted and received using this notebook. Image transmission is accompanied by simple image display widgets for visualisation.\n",
    "\n",
    "It is recommended that you follow the notebook in order starting with [Overview](#overview).<br><br>,\n",
    "<b>Table of Contents</b>\n",
    "1. &nbsp; [Overview](#overview)\n",
    "2. &nbsp; [The Transmitter](#the_transmitter)\n",
    "3. &nbsp; [The Receiver](#the_receiver) <br>\n",
    "    3.1 &nbsp; [Coarse Frequency Synchronisation](#coarse_frequency_synchronisation) <br>\n",
    "    3.2 &nbsp; [Time Synchronisation](#time_synchronisation) <br>\n",
    "    3.3 &nbsp; [Frame Synchronisation](#frame_synchronisation) <br>\n",
    "4. &nbsp; [Transmit and Receive](#transmit_and_receive) <br>\n",
    "    4.1 &nbsp; [A Simple Message](#a_simple_message) <br>\n",
    "    4.2 &nbsp; [A Message Repeater](#a_message_repeater) <br>\n",
    "    4.3 &nbsp; [Image Transfer](#image_transfer) <br>\n",
    "5. &nbsp; [Summary](#summary)\n",
    "\n",
    "<div style=\"background-color: #d9edf7; color: #31708f; padding: 15px;\">\n",
    "    <b>Tip:</b> Make sure you have the SMA loopback cable plugged in as detailed in the <a href=\"https://github.com/Xilinx/PYNQ_RFSOC_Workshop\">instructions here</a>.\n",
    "</div>"
   ]
  },
  {
   "cell_type": "markdown",
   "metadata": {},
   "source": [
    "<a class=\"anchor\" id=\"overview\"></a>\n",
    "## 1. &nbsp; Overview\n",
    "The aim of this notebook is to demonstrate simple BPSK data transmission using the RFSoC and PYNQ. Two hardware accelerators are provided; one to transmit data, and the other to receive data. Each accelerator is independant of one another and do not communicate. The transmitter modulates 100 kbits/s of data using BPSK, and it interpolates the signal to 1.024 MSa/s with subsequent interpolation stages. The RF-DAC then transmits the data. The receiver is connected to the transmitter using an SMA loopback cable. The RF-ADC will initially decimate the data and the receiver hardware accelerator will be responsible for synchronising to the signal and extracting the modulated data.\n",
    "\n",
    "A Direct Memory Access (DMA) controller is provided to transfer data from Jupyter Labs to the transmitter. Another DMA is provided to transfer data from the receiver to Jupyter Labs. Jupyter will be used to control the hardware accelerators and inspect the receiver's synchronisation stages. The entire system can be seen in the figure below:\n",
    "\n",
    "<br>\n",
    "\n",
    "<img src=\"assets/system_overview.png\" style=\"width: 70%;\" align=\"middle\"/>\n",
    "\n",
    "<br>"
   ]
  },
  {
   "cell_type": "markdown",
   "metadata": {},
   "source": [
    "<a class=\"anchor\" id=\"the_transmitter\"></a>\n",
    "## 2. &nbsp; The Transmitter\n",
    "\n",
    "<br>\n",
    "\n",
    "<img src=\"assets/transmitter.png\" style=\"width: 90%;\" align=\"middle\"/>\n",
    "\n",
    "<br>"
   ]
  },
  {
   "cell_type": "markdown",
   "metadata": {},
   "source": [
    "<a class=\"anchor\" id=\"the_receiver\"></a>\n",
    "## 3. &nbsp; The Receiver\n",
    "\n",
    "<br>\n",
    "\n",
    "<img src=\"assets/receiver.png\" style=\"width: 90%;\" align=\"middle\"/>\n",
    "\n",
    "<br>"
   ]
  },
  {
   "cell_type": "code",
   "execution_count": null,
   "metadata": {},
   "outputs": [],
   "source": [
    "from rfsoc_radio_bpsk import BpskRadio\n",
    "\n",
    "radio = BpskRadio(init_rf_clks = True)"
   ]
  },
  {
   "cell_type": "markdown",
   "metadata": {},
   "source": [
    "When the hardware system was designed, a data inspector was added that will allow you to transfer frames of data from the Programmable Logic to the external Processing System memory. Software has been developed that manipulates the samples of data for visualisation using the Plotly Python library. You can try this for yourself by running the code cell below.\n",
    "\n",
    "Upon executing the cell you will be presented with time domain, constellation, and frequency spectrum plots. These plots can be continuously updated by clicking the start button. You are able to visualise other points in the receiver by using the observation point dropdown menu."
   ]
  },
  {
   "cell_type": "code",
   "execution_count": null,
   "metadata": {},
   "outputs": [],
   "source": [
    "radio.receiver.visualise()"
   ]
  },
  {
   "cell_type": "markdown",
   "metadata": {},
   "source": [
    "Right-click the area above, and in the drop-down menu that appears, select \"Create New View for Output\". This action will move the plots to another window in Jupyter Labs, allowing you to scroll further down the notebook while still being able to visualise and interact with the plots.\n",
    "\n",
    "There is also one more tool you will require while interacting with this notebook, a radio dashboard. This will allow you to change the mixer frequencies of the RF-DAC and RF-ADC. You can also choose to switch-off parts of the radio system such as the transmitter, and various parts of the receiver. You can load the radio dashboard by running the code cell below. After you have executed the cell, you should right click the output area, and select \"Create New View for Output\" from the drop-down menu. Again, this will allow you to interact with the remainder of the notebook and retain access to the radio dashboard."
   ]
  },
  {
   "cell_type": "code",
   "execution_count": null,
   "metadata": {},
   "outputs": [],
   "source": [
    "radio.dashboard()"
   ]
  },
  {
   "cell_type": "markdown",
   "metadata": {},
   "source": [
    "<a class=\"anchor\" id=\"coarse_frequency_synchronisation\"></a>\n",
    "### 3.1 &nbsp; Coarse Frequency Synchronisation"
   ]
  },
  {
   "cell_type": "markdown",
   "metadata": {},
   "source": [
    "There are no code cells to run in this section. We will use the output plots and radio dashboard to interact with our system. Using our inspector tool, set the observation point to \"CIC Decimator\" using the drop-down menu. Take a moment to inspect the time domain and frequency spectrum plots. Notice that the time domain signal is smooth and the pulse shaped symbols can be easily inspected. While the frequency spectrum has a primary peak directly on 0 Hz. The system is correctly synchronised in terms of mixer frequency.\n",
    "\n",
    "Coarse frequency synchronisation corrects frequency offset in the received signal, which may be due to incorrect tuning or channel effects. We can evaluate incorrect tuning by setting our RF-ADC mixer to a frequency that is not the same as the RF-DAC. Try this now by using the radio dashboard to set the RF-ADC frequency to 65.25. \n",
    "\n",
    "Using our inspector tool, we can visualise the effects incorrect tuning can have on our signal in the time and frequency domain. Ensure that the observation point is set to CIC Decimator. Notice, that the waveform now oscillates over symbols in the time domain plot. In the frequency spectrum, the peak is no longer located at 0 Hz, and has shifted by 1.25 MHz.\n",
    "\n",
    "The coarse frequency synchronisation module in our hardware receiver can compensate for incorrect frequency tuning. This can be visualised by changing the observation point to \"Coarse Frequency Synchronisation\" and evaluating the output time domain and frequency spectrum plots. Notice that the time domain signal no longer oscillates over received symbols, and the primary peak is now located over 0 Hz.\n",
    "\n",
    "The hardware architecture of the coarse frequency synchronisation module is located in:\n",
    "\n",
    "<div style=\"background-color: #d9edf7; color: #31708f; padding: 15px;\">\n",
    "    <b>System Generator:</b> &nbsp; ...models/bpsk_receiver/bpsk_rx_coarse_sync.slx.\n",
    "</div>\n",
    "\n",
    "You should take a moment to inspect this model and understand its contents."
   ]
  },
  {
   "cell_type": "markdown",
   "metadata": {},
   "source": [
    "<a class=\"anchor\" id=\"time_synchronisation\"></a>\n",
    "### 3.2 &nbsp; Time and Carrier Synchronisation"
   ]
  },
  {
   "cell_type": "markdown",
   "metadata": {},
   "source": [
    "Upon coarsely synchronising to our received signal, we now need to determine where its maximum effect points are and use these to retrieve the modulated data. Time synchronisation is performed by evaluating the point in a signal that contains the transmitted data. In this system, time synchronisation is perfomed by first determining the slope of the received waveform and adjusting the timing error appropriately. This architecture can be inspected in the following model:\n",
    "\n",
    "<div style=\"background-color: #d9edf7; color: #31708f; padding: 15px;\">\n",
    "    <b>System Generator:</b> &nbsp; ...models/bpsk_receiver/bpsk_rx_time_sync.slx.\n",
    "</div>\n",
    "\n",
    "Using the inspection tool, we can visualise the effects of correct time synchronisation. Set the observation point to \"Time Synchronisation\" and inspect the time domain and constellation plots. You will be able to clearly see that the time domain plot is shaped like a saw tooth. This is because the time synchronisation algorithm is selecting the most effective points to sample and retrieve data. In the constellation plot, a BPSK signal can be seen, that is rotating in a circular motion. The rotation occurs because the real and imaginary components of the signal are constantly changing in amplitude. The amplitude change occurs as the signal is not carrier synchronised (or phase aligned correctly).\n",
    "\n",
    "Carrier synchronisation can be performed by determining the angle of error between the expected phase and the received phase. BPSK modulation expects to only have a signal with a real component. Therefore, we must rotate the constellation appropriately to maximise the real component amplitude and suppress the imaginary component. This will cause the BPSK constellation to lie on the x-axis if the constellation plot. The architecture of the carrier synchronisation module can be seen in:\n",
    "\n",
    "<div style=\"background-color: #d9edf7; color: #31708f; padding: 15px;\">\n",
    "    <b>System Generator:</b> &nbsp; ...models/bpsk_receiver/bpsk_rx_phase_sync.slx.\n",
    "</div>\n",
    "\n",
    "The inspection tool can be used to visualise the effect of carrier synchronisation. Change the signal of the inspection to \"Phase Synchronisation\" using the observation point drop-down menu. You will be able to inspect the constellation plot and time domain plot. Notice that the constellation has stopped rotating and the time domain signal has stabilised."
   ]
  },
  {
   "cell_type": "markdown",
   "metadata": {},
   "source": [
    "<a class=\"anchor\" id=\"frame_synchronisation\"></a>\n",
    "### 3.3 &nbsp; Frame Synchronisation"
   ]
  },
  {
   "cell_type": "markdown",
   "metadata": {},
   "source": [
    "The frame synchronisation architecture allows a transmitted signal, which contains a sequence of known bits, to be recognised. Before the transmission of data, a sequence of known bits are inserted at the start of a packet and are recognised at the receiver. When the receiver locks on to the sequence of known bits, it begins to read the remainder of the data.\n",
    "\n",
    "The 'known bits' in this radio architecture are barker codes. These are unique codes that result in maximum correlation when the reference and received sequence are directly aligned. They are particularly unique and enable receivers to effectively identify incoming data packets.\n",
    "\n",
    "<div style=\"background-color: #d9edf7; color: #31708f; padding: 15px;\">\n",
    "    <b>System Generator:</b> &nbsp; ...models/bpsk_receiver/bpsk_rx_frame_sync.slx.\n",
    "</div>"
   ]
  },
  {
   "cell_type": "markdown",
   "metadata": {},
   "source": [
    "<a class=\"anchor\" id=\"transmit_and_receive\"></a>\n",
    "## 4. &nbsp; Transmit and Receive"
   ]
  },
  {
   "cell_type": "markdown",
   "metadata": {},
   "source": [
    "<a class=\"anchor\" id=\"a_simple_message\"></a>\n",
    "### 4.1 &nbsp; A Simple Message"
   ]
  },
  {
   "cell_type": "code",
   "execution_count": null,
   "metadata": {},
   "outputs": [],
   "source": [
    "# Import Terminal() from the quick widgets library\n",
    "from quick_widgets import Terminal\n",
    "import numpy as np\n",
    "\n",
    "# Create a text terminal for interacting with received data\n",
    "terminal = Terminal(description='Received Message:')\n",
    "\n",
    "# Do we want to debug?\n",
    "debug = False\n",
    "\n",
    "# Create a custom callback function that is executed when the receiver\n",
    "# interrupt is triggered\n",
    "def terminal_callback():\n",
    "    global debug\n",
    "    frame = radio.receiver.frame\n",
    "    payload = np.where(frame[\"payload\"] > 127, 0, frame[\"payload\"]).tostring().decode('ascii')\n",
    "    if debug:\n",
    "        data = 'Header: ' + str({i:frame[i] for i in frame if i!=\"payload\"}) \\\n",
    "        + '\\rPayload: ' + payload + '\\r\\r'\n",
    "    else:\n",
    "        data = payload\n",
    "    terminal.append(data)\n",
    "    \n",
    "# Set the terminal_callback function as the callback for the receiver\n",
    "# when an interrupt is triggered\n",
    "radio.receiver.monitor.callback = [terminal_callback]\n",
    "\n",
    "# Get the widget for interaction with received data\n",
    "terminal.get_widget()"
   ]
  },
  {
   "cell_type": "code",
   "execution_count": null,
   "metadata": {},
   "outputs": [],
   "source": [
    "radio.transmitter.data('Hello World!\\r')\n",
    "radio.transmitter.start()"
   ]
  },
  {
   "cell_type": "code",
   "execution_count": null,
   "metadata": {},
   "outputs": [],
   "source": [
    "# Do we want to debug?\n",
    "debug = True\n",
    "radio.transmitter.data('The quick brown fox jumps over the lazy dog.' + '\\r' +\n",
    "                          'How razorback-jumping frogs can level six piqued gymnasts.' + '\\r' +\n",
    "                          'Pack my box with five dozen liquor jugs.' + '\\r' +\n",
    "                          'Jackdaws love my big sphinx of quartz.' + '\\r' +\n",
    "                          'Amazingly few discotheques provide jukeboxes.' + '\\r' +\n",
    "                          'Now fax quiz Jack! my brave ghost pled.' + '\\r')\n",
    "radio.transmitter.start()"
   ]
  },
  {
   "cell_type": "markdown",
   "metadata": {},
   "source": [
    "<a class=\"anchor\" id=\"a_message_repeater\"></a>\n",
    "### 4.2 &nbsp; A Message Repeater"
   ]
  },
  {
   "cell_type": "code",
   "execution_count": null,
   "metadata": {},
   "outputs": [],
   "source": [
    "counter = 0\n",
    "debug = False\n",
    "\n",
    "def message_callback():\n",
    "    global counter\n",
    "    message = 'Hello World! ' + str(counter) + '\\r'\n",
    "    radio.transmitter.data(message)\n",
    "    counter += 1\n",
    "    \n",
    "# Set the message_callback function as the callback before transmitting\n",
    "# data using the transmitter\n",
    "radio.transmitter.monitor.callback = [message_callback]\n",
    "\n",
    "# Start the transmitter in repeat mode\n",
    "radio.transmitter.mode = 'repeat'\n",
    "\n",
    "# Set the transmission rate to half a second\n",
    "radio.transmitter.monitor.rate = 0.5\n",
    "\n",
    "radio.transmitter.start()"
   ]
  },
  {
   "cell_type": "code",
   "execution_count": null,
   "metadata": {},
   "outputs": [],
   "source": [
    "radio.transmitter.stop()"
   ]
  },
  {
   "cell_type": "markdown",
   "metadata": {},
   "source": [
    "<a class=\"anchor\" id=\"image_transfer\"></a>\n",
    "### 4.3 &nbsp; Image Transfer"
   ]
  },
  {
   "cell_type": "code",
   "execution_count": null,
   "metadata": {},
   "outputs": [],
   "source": [
    "# Import ImageViewer() from the quick widgets library\n",
    "from quick_widgets import ImageViewer\n",
    "import numpy as np\n",
    "import ipywidgets as ipw\n",
    "\n",
    "# Open the target image using bytes\n",
    "image = []\n",
    "for i in range(4):\n",
    "    file = open('assets/small_cat_' + str(i) + '.jpg', \"rb\")\n",
    "    image.append(file.read())\n",
    "\n",
    "# Set flip variable\n",
    "counter = 0\n",
    "\n",
    "# Create image viewer for transmitted image\n",
    "sendimage = ImageViewer(description='Transmitted Image')\n",
    "\n",
    "def sendimage_callback():\n",
    "    global counter\n",
    "    global image\n",
    "    radio.transmitter.data(image[counter])\n",
    "    sendimage.update(image[counter])\n",
    "    if counter > 2:\n",
    "        counter = 0\n",
    "    else:\n",
    "        counter += 1\n",
    "    \n",
    "# Set the sendimage_callback function as the callback before transmitting\n",
    "# data using the transmitter\n",
    "radio.transmitter.monitor.callback = [sendimage_callback]\n",
    "\n",
    "# Slow down the transmission rate to two seconds\n",
    "radio.transmitter.monitor.rate = 2.5\n",
    "\n",
    "sendimage.update(image[0])\n",
    "\n",
    "# Get the widget for interaction with sent data\n",
    "ipw.HBox([sendimage.get_widget()])"
   ]
  },
  {
   "cell_type": "code",
   "execution_count": null,
   "metadata": {},
   "outputs": [],
   "source": [
    "# Import ImageViewer() from the quick widgets library\n",
    "from quick_widgets import ImageViewer\n",
    "import numpy as np\n",
    "import ipywidgets as ipw\n",
    "\n",
    "# Create a receiver buffer to store packets of data\n",
    "recvbuffer = np.empty(0, dtype=np.uint8)\n",
    "\n",
    "# Create an image viewer object for visualising the received data\n",
    "recvimage = ImageViewer(description='Received Image')\n",
    "\n",
    "# Create a custom callback function that is executed when the receiver\n",
    "# interrupt is triggered\n",
    "def recvimage_callback():\n",
    "    global recvbuffer\n",
    "    frame = radio.receiver.frame\n",
    "    payload = frame[\"payload\"]\n",
    "    if ((frame[\"flags\"] >> 1) & 1):\n",
    "        recvbuffer = np.array(payload, dtype=np.uint8)\n",
    "    else:\n",
    "        recvbuffer = np.append(recvbuffer, payload)\n",
    "    if (frame[\"flags\"] & 1):\n",
    "        recvimage.update(recvbuffer.tobytes())\n",
    "        \n",
    "# Set the terminal_callback function as the callback for the receiver\n",
    "# when an interrupt is triggered\n",
    "radio.receiver.monitor.callback = [recvimage_callback]\n",
    "\n",
    "# Get the widget for interaction with received data\n",
    "ipw.HBox([recvimage.get_widget()])"
   ]
  },
  {
   "cell_type": "code",
   "execution_count": null,
   "metadata": {},
   "outputs": [],
   "source": [
    "# Start the transfer\n",
    "radio.transmitter.mode = 'repeat'\n",
    "radio.transmitter.start()"
   ]
  },
  {
   "cell_type": "code",
   "execution_count": null,
   "metadata": {},
   "outputs": [],
   "source": [
    "radio.transmitter.stop()"
   ]
  },
  {
   "cell_type": "markdown",
   "metadata": {},
   "source": [
    "<a class=\"anchor\" id=\"summary\"></a>\n",
    "## 5. &nbsp; Summary"
   ]
  }
 ],
 "metadata": {
  "kernelspec": {
   "display_name": "Python 3",
   "language": "python",
   "name": "python3"
  },
  "language_info": {
   "codemirror_mode": {
    "name": "ipython",
    "version": 3
   },
   "file_extension": ".py",
   "mimetype": "text/x-python",
   "name": "python",
   "nbconvert_exporter": "python",
   "pygments_lexer": "ipython3",
   "version": "3.6.5"
  }
 },
 "nbformat": 4,
 "nbformat_minor": 4
}