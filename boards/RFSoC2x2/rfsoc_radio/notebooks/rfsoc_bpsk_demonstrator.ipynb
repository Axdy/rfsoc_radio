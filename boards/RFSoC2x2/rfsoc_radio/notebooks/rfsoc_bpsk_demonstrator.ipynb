{
 "cells": [
  {
   "cell_type": "markdown",
   "metadata": {},
   "source": [
    "<img src=\"images/strathclyde_banner.png\" width=\"50%\" align=\"left\">"
   ]
  },
  {
   "cell_type": "markdown",
   "metadata": {},
   "source": [
    "# RFSoC BPSK Radio Demonstration\n",
    "\n",
    "----\n",
    "\n",
    "<div class=\"alert alert-box alert-info\">\n",
    "Please use Jupyter Labs http://board_ip_address/lab for this notebook.\n",
    "</div>\n",
    "\n",
    "This notebooks presents a BPSK radio system design for the Zynq UltraScale+ RFSoC. The BPSK radio implements a full transmitter and receiver design including frame based transmission of BPSK modulated data, receiver synchronisation, frame synchronisation, and payload extraction. This demonstration employs the RFSoC RF Data Converters (RF DCs) to support the transmission and reception of BPSK waveforms.\n",
    "\n",
    "## Table of Contents\n",
    "* [Introduction](#introduction)\n",
    "    * [Hardware Setup](#hardware-setup)\n",
    "    * [Software Setup](#software-setup)\n",
    "* [RFSoC BPSK Radio](#rfsoc-bpsk-radio)\n",
    "* [The Transmitter](#the-transmitter)\n",
    "* [The Receiver](#the-receiver)\n",
    "    * [Controlling the Receiver](#controlling-the-receiver)\n",
    "    * [Inspecting the Receiver](#inspecting-the-receiver)\n",
    "* [Transmit and Receive](#transmit-and-receive)\n",
    "    * ['Hello World!'](#hello-world)\n",
    "    * [A Message Repeater](#a-message-repeater)\n",
    "    * [Image Transfer](#image-transfer)\n",
    "* [Conclusion](#conclusion)\n",
    "\n",
    "## References\n",
    "* [Xilinx, Inc, \"USP RF Data Converter: LogiCORE IP Product Guide\", PG269, v2.3, June 2020](https://www.xilinx.com/support/documentation/ip_documentation/usp_rf_data_converter/v2_3/pg269-rf-data-converter.pdf)\n",
    "\n",
    "## Revision History\n",
    "* **v1.0** | 24/02/2021 | RFSoC BPSK radio demonstrator"
   ]
  },
  {
   "cell_type": "markdown",
   "metadata": {},
   "source": [
    "----"
   ]
  }
 ],
 "metadata": {
  "kernelspec": {
   "display_name": "Python 3",
   "language": "python",
   "name": "python3"
  },
  "language_info": {
   "codemirror_mode": {
    "name": "ipython",
    "version": 3
   },
   "file_extension": ".py",
   "mimetype": "text/x-python",
   "name": "python",
   "nbconvert_exporter": "python",
   "pygments_lexer": "ipython3",
   "version": "3.6.5"
  }
 },
 "nbformat": 4,
 "nbformat_minor": 4
}
