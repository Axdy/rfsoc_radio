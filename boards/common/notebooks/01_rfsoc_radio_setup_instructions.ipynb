{
 "cells": [
  {
   "cell_type": "markdown",
   "metadata": {},
   "source": [
    "# RFSoC Radio - Setup Instructions\n",
    "This notebook presents a simple Binary Phase Shift Keying (BPSK) radio system design for the Zynq UltraScale+ RFSoC. The steps outlined below will demonstrate the features and capabilities of this system.\n",
    "\n",
    "The BPSK radio system is capable of transmitting and receiving data at 100 kbits/s. The transmitter modulates 8-bit wide fixed-point data into BPSK packets for transmission. The transmission system uses a raised cosine to pulse-shape the BPSK data, and then interpolates the samples to 1.024 GSa/s. The pulse-shaped, interpolated BPSK data is mixed with a carrier frequency and transmitted using the RF-DAC. On the receiving end, the RF-ADC also samples at 1.024 GSa/s. The received signal is decimated by a factor of 8 using the RF-ADC's internal half-band lowpass decimators. The signal then passes through a series of decimation stages in the Programmable Logic. Coarse, timing, and carrier synchronisation techniques are then applied to improve signal acquisition. Finally, frame synchronisation, using an extended barker sequence, is applied through correlation, which allows the BPSK data to be acquired.\n",
    "\n",
    "This demonstration provides interactive plotting capabilities so that users can visualise each stage of the BPSK synchronisation process. Users can transmit their own BPSK messages and receive them using a serial terminal. Furthermore, image data can also be transmitted and received using this notebook. Image transmission is accompanied by simple image display widgets for visualisation.\n",
    "\n",
    "<div style=\"background-color: #A0A0A0; color: #000000; padding: 2px;\">\n",
    "    <p><b>Attention:</b> You are using a device that can transmit radio signals. Be advised that unlicensed transmission of radio signals may be illegal in your geographical location. Radio signals may also interfere with nearby devices, such as pacemakers. If you are unsure about using this device, switch the device off and seek professional support.</p>\n",
    "</div>"
   ]
  },
  {
   "source": [
    "## 1. Overview\n",
    "The aim of this notebook is to demonstrate simple BPSK data transmission using the RFSoC and PYNQ. Two hardware accelerators are provided; one to transmit data, and the other to receive data. Each accelerator is independant of one another and do not share sample clocks. The transmitter modulates 100 kbits/s of data using BPSK, and it interpolates the signal to 1.024 MSa/s through subsequent interpolation stages. The RF-DAC then transmits the data. The receiver is connected to the transmitter using an SMA loopback cable. The RF-ADC will initially decimate the data and the receiver hardware accelerator will be responsible for synchronising to the signal and extracting the modulated data.\n",
    "\n",
    "A Direct Memory Access (DMA) controller is provided to transfer data from Jupyter Labs to the transmitter. Another DMA is provided to transfer data from the receiver to Jupyter Labs. Jupyter will be used to control the hardware accelerators and inspect the receiver's synchronisation stages. The system architecture can be seen in the figure below:\n",
    "\n",
    "<br>\n",
    "\n",
    "<img src=\"assets/system_overview.png\" style=\"width: 50%;\" align=\"middle\"/>\n",
    "\n",
    "<br>"
   ],
   "cell_type": "markdown",
   "metadata": {}
  },
  {
   "source": [
    "## 2. Getting Started\n",
    "There are three ways to use this BPSK radio system:\n",
    "* <b>Single Board Loopback</b> — You may choose to setup the system using a single RFSoC development board. This configuration is known as loopback, and will allow the RFSoC development board to transmit and receive its own BPSK data packets.\n",
    "\n",
    "* <b>Multi-Board Simplex</b> — The BPSK radio system can be configured to transmit and receive data between two RFSoC development boards using a single communication channel. Each development board is assigned as either a transmitter or receiver. Note that since there is only one communication channel, it is not possible for the receiver to send messages back to the transmitter.\n",
    "\n",
    "* <b>Multi-Board Full Duplex</b> — Using two communication channels, the BPSK radio system can be configured to operate in full duplex mode. This setup allows two RFSoC development boards to both transmit and receive BPSK packets at the same time."
   ],
   "cell_type": "markdown",
   "metadata": {}
  },
  {
   "source": [
    "<h3> Single Board Loopback </h3>\n",
    "<p> <a href=\"02_rfsoc_radio_singleboard_loopback.ipynb\">Single Board Loopback</a></p>\n",
    "\n",
    "<h3> Multi-Board Simplex </h3>\n",
    "<p> <a href=\"03_rfsoc_radio_multiboard_transmitter.ipynb\">Multi-Board Transmitter</a></p>\n",
    "<p> <a href=\"04_rfsoc_radio_multiboard_receiver.ipynb\">Multi-Board Receiver</a></p>\n",
    "\n",
    "<h3> Multi-Board Full Duplex </h3>\n",
    "<p> <a href=\"05_rfsoc_radio_multiboard_transmit_receive.ipynb\">Multi-Board Full Duplex</a></p>"
   ],
   "cell_type": "markdown",
   "metadata": {}
  },
  {
   "cell_type": "code",
   "execution_count": null,
   "metadata": {},
   "outputs": [],
   "source": []
  }
 ],
 "metadata": {
  "kernelspec": {
   "display_name": "Python 3",
   "language": "python",
   "name": "python3"
  },
  "language_info": {
   "codemirror_mode": {
    "name": "ipython",
    "version": 3
   },
   "file_extension": ".py",
   "mimetype": "text/x-python",
   "name": "python",
   "nbconvert_exporter": "python",
   "pygments_lexer": "ipython3",
   "version": "3.8.3-final"
  }
 },
 "nbformat": 4,
 "nbformat_minor": 4
}